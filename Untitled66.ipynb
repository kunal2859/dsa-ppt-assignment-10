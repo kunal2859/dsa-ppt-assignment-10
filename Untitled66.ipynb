{
 "cells": [
  {
   "cell_type": "code",
   "execution_count": 2,
   "id": "4b5ca9e6",
   "metadata": {},
   "outputs": [
    {
     "data": {
      "text/plain": [
       "True"
      ]
     },
     "execution_count": 2,
     "metadata": {},
     "output_type": "execute_result"
    }
   ],
   "source": [
    "def powerOfthree(n):\n",
    "    if n==1:\n",
    "        return True\n",
    "    elif n<1 or n%3!=0:\n",
    "        return False\n",
    "    else:\n",
    "        return powerOfthree(n//3)\n",
    "    \n",
    "powerOfthree(27)"
   ]
  },
  {
   "cell_type": "code",
   "execution_count": 5,
   "id": "5948572d",
   "metadata": {},
   "outputs": [
    {
     "data": {
      "text/plain": [
       "6"
      ]
     },
     "execution_count": 5,
     "metadata": {},
     "output_type": "execute_result"
    }
   ],
   "source": [
    "def single(n):\n",
    "    head = 1 \n",
    "    step = 1 \n",
    "    fwd = True\n",
    "    while (n > 1):\n",
    "        if fwd or n % 2 != 0:\n",
    "            head += step\n",
    "        step *= 2 \n",
    "        n //= 2\n",
    "        fwd = not fwd\n",
    "\n",
    "    return head\n",
    "\n",
    "single(9)"
   ]
  },
  {
   "cell_type": "code",
   "execution_count": 8,
   "id": "b9bf991d",
   "metadata": {},
   "outputs": [
    {
     "name": "stdout",
     "output_type": "stream",
     "text": [
      "abc ab ac a bc b c  "
     ]
    }
   ],
   "source": [
    "def powerSet(string,index,curr):\n",
    "    if index == len(string):\n",
    "        print(curr,end=\" \")\n",
    "        return\n",
    "\n",
    "    powerSet(string, index + 1,curr + string[index])\n",
    "    powerSet(string, index + 1, curr)\n",
    "\n",
    "s1 = \"abc\"\n",
    "index = 0\n",
    "curr = \"\"\n",
    "powerSet(s1, index, curr)"
   ]
  },
  {
   "cell_type": "code",
   "execution_count": 9,
   "id": "283382cb",
   "metadata": {},
   "outputs": [
    {
     "data": {
      "text/plain": [
       "5"
      ]
     },
     "execution_count": 9,
     "metadata": {},
     "output_type": "execute_result"
    }
   ],
   "source": [
    "def length(s):\n",
    "    if s==\"\":\n",
    "        return 0\n",
    "    return 1 + length(s[1:])\n",
    "\n",
    "s=\"abcde\"\n",
    "length(s)"
   ]
  },
  {
   "cell_type": "code",
   "execution_count": 11,
   "id": "3a2a7890",
   "metadata": {},
   "outputs": [
    {
     "name": "stdout",
     "output_type": "stream",
     "text": [
      "7\n"
     ]
    }
   ],
   "source": [
    "def countSubstrs(str, i, j, n):\n",
    "    if (n == 1):\n",
    "        return 1\n",
    "    if (n <= 0):\n",
    "        return 0\n",
    " \n",
    "    res = (countSubstrs(str, i + 1, j, n - 1) + countSubstrs(str, i, j - 1, n - 1) - countSubstrs(str, i + 1, j - 1, n - 2))    \n",
    "    if (str[i] == str[j]):\n",
    "        res += 1\n",
    "    return res\n",
    "\n",
    "str = \"abcab\"\n",
    "n = len(str)\n",
    "print(countSubstrs(str, 0, n - 1, n))"
   ]
  },
  {
   "cell_type": "code",
   "execution_count": 18,
   "id": "42dc0f74",
   "metadata": {},
   "outputs": [
    {
     "name": "stdout",
     "output_type": "stream",
     "text": [
      "Move disk 1 from rod A to rod C\n",
      "Move disk 2 from rod A to rod B\n",
      "Move disk 1 from rod C to rod B\n",
      "Move disk 3 from rod A to rod C\n",
      "Move disk 1 from rod B to rod A\n",
      "Move disk 2 from rod B to rod C\n",
      "Move disk 1 from rod A to rod C\n",
      "7\n"
     ]
    }
   ],
   "source": [
    "def TowerOfHanoi(n, from_rod, to_rod, aux_rod):\n",
    "    count=0\n",
    "    if n == 0:\n",
    "        return\n",
    "    TowerOfHanoi(n-1, from_rod, aux_rod, to_rod)\n",
    "    count+=1\n",
    "    print(\"Move disk\", n, \"from rod\", from_rod, \"to rod\", to_rod)\n",
    "    TowerOfHanoi(n-1, aux_rod, to_rod, from_rod)\n",
    "\n",
    "N = 3\n",
    "TowerOfHanoi(N, 'A', 'C', 'B')\n",
    "count=count+2**N-1\n",
    "print(count)"
   ]
  },
  {
   "cell_type": "code",
   "execution_count": 19,
   "id": "8961fccb",
   "metadata": {},
   "outputs": [
    {
     "name": "stdout",
     "output_type": "stream",
     "text": [
      "abb abb bab bba bab bba "
     ]
    }
   ],
   "source": [
    "def permute(s, answer):\n",
    "    if (len(s) == 0):\n",
    "        print(answer, end=\" \")\n",
    "        return\n",
    "\n",
    "    for i in range(len(s)):\n",
    "        ch = s[i]\n",
    "        left_substr = s[0:i]\n",
    "        right_substr = s[i + 1:]\n",
    "        rest = left_substr + right_substr\n",
    "        permute(rest, answer + ch)\n",
    "\n",
    "answer = \"\"\n",
    "s = \"abb\"\n",
    "permute(s, answer)"
   ]
  },
  {
   "cell_type": "code",
   "execution_count": 21,
   "id": "8aad179b",
   "metadata": {},
   "outputs": [
    {
     "name": "stdout",
     "output_type": "stream",
     "text": [
      "3\n"
     ]
    }
   ],
   "source": [
    "def isConsonant(ch):\n",
    "    ch = ch.upper()\n",
    "    return not (ch == 'A' or ch == 'E' or ch == 'I' or ch == 'O' or ch == 'U') and ord(ch) >= 65 and ord(ch) <= 90\n",
    "  \n",
    "def totalConsonants(string, n):\n",
    "    if n == 1:\n",
    "        return isConsonant(string[0])\n",
    "    return totalConsonants(string, n - 1) + isConsonant(string[n-1])\n",
    "\n",
    "string = \"abc de\"\n",
    "print(totalConsonants(string, len(string)))"
   ]
  }
 ],
 "metadata": {
  "kernelspec": {
   "display_name": "Python 3 (ipykernel)",
   "language": "python",
   "name": "python3"
  },
  "language_info": {
   "codemirror_mode": {
    "name": "ipython",
    "version": 3
   },
   "file_extension": ".py",
   "mimetype": "text/x-python",
   "name": "python",
   "nbconvert_exporter": "python",
   "pygments_lexer": "ipython3",
   "version": "3.9.13"
  }
 },
 "nbformat": 4,
 "nbformat_minor": 5
}
